{
 "cells": [
  {
   "cell_type": "markdown",
   "metadata": {},
   "source": [
    "# Direct calculation of cfht_minimal fit"
   ]
  },
  {
   "cell_type": "code",
   "execution_count": 1,
   "metadata": {},
   "outputs": [],
   "source": [
    "%matplotlib inline\n",
    "%config InlineBackend.figure_format = 'retina'\n",
    "\n",
    "import numpy as np\n",
    "import scipy.optimize\n",
    "\n",
    "import matplotlib.pyplot as plt"
   ]
  },
  {
   "cell_type": "markdown",
   "metadata": {},
   "source": [
    "The notation here follows that of [dmtn-036](http://dmtn-036.lsst.io)."
   ]
  },
  {
   "cell_type": "markdown",
   "metadata": {},
   "source": [
    "## Flux calculation"
   ]
  },
  {
   "cell_type": "markdown",
   "metadata": {},
   "source": [
    "To see the comparison numbers, `setup jointcal` and run this in `tests/`:\n",
    "\n",
    "```\n",
    "pytest -sv test_jointcal_cfht_minimal.py::JointcalTestCFHTMinimal::test_jointcalTask_2_visits_photometry\n",
    "```"
   ]
  },
  {
   "cell_type": "code",
   "execution_count": 2,
   "metadata": {},
   "outputs": [],
   "source": [
    "def residualMeas(scale, flux, fittedFlux):\n",
    "    return scale*flux - fittedFlux\n",
    "\n",
    "def invSigma(scale, err):\n",
    "    return 1.0/(scale*err)\n",
    "\n",
    "\n",
    "def measChi2(scale, flux, fluxErr, fittedFlux):\n",
    "    return (residualMeas(scale, flux, fittedFlux) * invSigma(scale, fluxErr))**2\n",
    "\n",
    "def computeChi2Meas(scale, flux1, fluxErr1, flux2, fluxErr2, fittedFlux, verbose=False):\n",
    "    if verbose:\n",
    "        print(measChi2(scale[0], flux1[0], fluxErr1[0], fittedFlux[0]))\n",
    "        print(measChi2(scale[1], flux2[0], fluxErr2[0], fittedFlux[0]))\n",
    "        print(measChi2(scale[1], flux2[1], fluxErr2[1], fittedFlux[1]))\n",
    "\n",
    "    return measChi2(scale[0], flux1[0], fluxErr1[0], fittedFlux[0]) + \\\n",
    "            measChi2(scale[1], flux2[0], fluxErr2[0], fittedFlux[0]) + \\\n",
    "            measChi2(scale[1], flux2[1], fluxErr2[1], fittedFlux[1])\n",
    "\n",
    "\n",
    "def refChi2(fittedFlux, refFlux, refFluxErr):\n",
    "    return ((fittedFlux - refFlux)/refFluxErr)**2\n",
    "\n",
    "def computeChi2Ref(fittedFlux, refFlux, refFluxErr, verbose=False):\n",
    "    if verbose:\n",
    "        print(refChi2(fittedFlux[0], refFlux[0], refFluxErr[0]))\n",
    "        print(refChi2(fittedFlux[1], refFlux[1], refFluxErr[1]))\n",
    "\n",
    "    return refChi2(fittedFlux[0], refFlux[0], refFluxErr[0]) + refChi2(fittedFlux[1], refFlux[1], refFluxErr[1])\n",
    "\n",
    "\n",
    "def doChi2(scale, flux1, fluxErr1, flux2, fluxErr2, fitted, refFlux, refFluxErr, verbose=False):\n",
    "    chi2Meas = computeChi2Meas(scale, flux1, fluxErr1, flux2, fluxErr2, fitted, verbose=verbose)\n",
    "    chi2Ref = computeChi2Ref(fitted, refFlux, refFluxErr, verbose=verbose)\n",
    "    print(\"chi2:\", chi2Meas, \" + \", chi2Ref, \" = \", chi2Meas+chi2Ref)"
   ]
  },
  {
   "cell_type": "markdown",
   "metadata": {},
   "source": [
    "These values come from the `-meas` and `-ref` files output by `saveChi2Contributions()` for the `cfht_minimal` test dataset, converted to maggies using the `processCcd` calibrations, so that the fit here is done as a ~1 scale factor. One CCD has one star, the other has two, making for two measurements of one star (flux~=3e-9) and one measurement of the other star (flux~=5.9e-9). Both stars have a reference catalog match.\n",
    "\n",
    "The output of this calculation should identically match the `Initialized: chi2/ndof : 9.98915/5=1.99783` line in the log from just after the SimpleFluxModel was instantiated."
   ]
  },
  {
   "cell_type": "code",
   "execution_count": 3,
   "metadata": {},
   "outputs": [
    {
     "name": "stdout",
     "output_type": "stream",
     "text": [
      "1.70305685641\n",
      "2.32139915248\n",
      "0.0\n",
      "5.81266575038\n",
      "0.15203003679\n",
      "chi2: 4.02445600888  +  5.96469578717  =  9.98915179606\n"
     ]
    }
   ],
   "source": [
    "useMaggies = True\n",
    "\n",
    "# ccd1\n",
    "if useMaggies:\n",
    "    flux1 = np.array([3.23755827e-09,])\n",
    "    fluxErr1 = np.array([9.44805263e-11,])\n",
    "else:\n",
    "    flux1 = np.array([21234.2649])\n",
    "    fluxErr1 = np.array([619.672096])\n",
    "\n",
    "# ccd2\n",
    "if useMaggies:\n",
    "    flux2 = np.array([2.99096178e-09, 5.94452146e-09])\n",
    "    fluxErr2 = np.array([8.09248684e-11, 8.34393948e-11,])\n",
    "else:\n",
    "    flux2 = np.array([20411.6636, 40568.0784])\n",
    "    fluxErr2 = np.array([552.267567, 569.427822])\n",
    "\n",
    "# stars 1 and 2\n",
    "fittedFlux = np.array([3.11426003e-09, 5.94452146e-09])\n",
    "\n",
    "# stars 1 and 2\n",
    "refFlux = np.array([2.6954972e-09, 6.01832176e-09])\n",
    "refFluxErr = np.array([1.73692254e-10, 1.89275075e-10])\n",
    "\n",
    "# ccds 1 and 2\n",
    "if useMaggies:\n",
    "    scaleFlux = [1, 1]\n",
    "else:\n",
    "    scaleFlux = [1.524685827e-13,  1.465319951e-13]\n",
    "\n",
    "doChi2(scaleFlux, flux1, fluxErr1, flux2, fluxErr2, fittedFlux, refFlux, refFluxErr, verbose=True)"
   ]
  },
  {
   "cell_type": "markdown",
   "metadata": {},
   "source": [
    "### What does scipy say?"
   ]
  },
  {
   "cell_type": "markdown",
   "metadata": {},
   "source": [
    "If `scipy.minimize` can solve the system, the final chi2 should match the jointcal result: `chi2/ndof : 2.3369/1=2.3369`"
   ]
  },
  {
   "cell_type": "code",
   "execution_count": 4,
   "metadata": {},
   "outputs": [
    {
     "name": "stdout",
     "output_type": "stream",
     "text": [
      " final_simplex: (array([[  8.98343519e-01,   9.87452406e-01,   2.90832290e-09,\n",
      "          5.89342202e-09],\n",
      "       [  8.98315986e-01,   9.87400861e-01,   2.90839364e-09,\n",
      "          5.89327092e-09],\n",
      "       [  8.98353168e-01,   9.87479340e-01,   2.90859347e-09,\n",
      "          5.89377338e-09],\n",
      "       [  8.98415360e-01,   9.87450279e-01,   2.90858946e-09,\n",
      "          5.89346997e-09],\n",
      "       [  8.98426727e-01,   9.87434674e-01,   2.90846695e-09,\n",
      "          5.89360071e-09]]), array([ 2.33676853,  2.33676952,  2.33677034,  2.33677376,  2.33677662]))\n",
      "           fun: 2.3367685264535796\n",
      "       message: 'Optimization terminated successfully.'\n",
      "          nfev: 158\n",
      "           nit: 93\n",
      "        status: 0\n",
      "       success: True\n",
      "             x: array([  8.98343519e-01,   9.87452406e-01,   2.90832290e-09,\n",
      "         5.89342202e-09])\n",
      "chi2: 0.399952333245  +  1.93681619321  =  2.33676852645\n"
     ]
    }
   ],
   "source": [
    "def computeChi2(scale):\n",
    "    \"\"\"scale 0,1 is the scale factor, 2,3 is the fittedFlux.\"\"\"\n",
    "    chi2Meas = computeChi2Meas(scale[:2], flux1, fluxErr1, flux2, fluxErr2, scale[2:], verbose=False)\n",
    "    chi2Ref = computeChi2Ref(scale[2:], refFlux, refFluxErr, verbose=False)\n",
    "    return chi2Meas + chi2Ref\n",
    "\n",
    "scale0 = np.hstack((scaleFlux, fittedFlux))\n",
    "result = scipy.optimize.minimize(computeChi2, scale0, method=\"Nelder-Mead\")\n",
    "print(result)\n",
    "doChi2(result.x[:2], flux1, fluxErr1, flux2, fluxErr2, result.x[2:], refFlux, refFluxErr)"
   ]
  },
  {
   "cell_type": "markdown",
   "metadata": {},
   "source": [
    "### Simulating the jointcal computations, step by step"
   ]
  },
  {
   "cell_type": "markdown",
   "metadata": {},
   "source": [
    "The output of this calculation should match the chi2 from after the first fitting step, just after \"assignIndices: now fitting Model\" (`chi2/ndof : 7.76225/3=2.58742`). Note that the derivative of this transform (`scale*flux`) w.r.t. the scale factor is just the flux."
   ]
  },
  {
   "cell_type": "code",
   "execution_count": 5,
   "metadata": {},
   "outputs": [],
   "source": [
    "def computeJMeas(scale, flux, fluxErr):\n",
    "    return invSigma(scale, fluxErr) * flux\n",
    "\n",
    "def computeGradMeas(scale, flux, fluxErr, fittedFlux):\n",
    "    return flux * invSigma(scale, fluxErr)**2 * residualMeas(scale, flux, fittedFlux)\n",
    "\n",
    "def computeJandGradMeas(scale, flux1, fluxErr1, flux2, fluxErr2, fitted):\n",
    "    J = np.zeros((2,3))  # elements of the Jacobian are dD(f)/d(f0) * 1/sigma\n",
    "    grad = np.zeros((2))  # elements of the gradient are -d chi2(f)/d(f0) = -dD(f)/d(f0) * (1/sigma)^2 * D(f)\n",
    "\n",
    "    # contributions from ccd1\n",
    "    i = 0\n",
    "    J[i, 0] = computeJMeas(scale[i], flux1[0], fluxErr1[0])\n",
    "    grad[i] += computeGradMeas(scale[i], flux1[0], fluxErr1[0], fitted[0])\n",
    "\n",
    "    # contributions from ccd2\n",
    "    i = 1\n",
    "    J[i, 1] = computeJMeas(scale[i], flux2[0], fluxErr2[0])\n",
    "    grad[i] += computeGradMeas(scale[i], flux2[0], fluxErr2[0], fitted[0])\n",
    "    J[i, 2] = computeJMeas(scale[i], flux2[1], fluxErr2[1])\n",
    "    grad[i] += computeGradMeas(scale[i], flux2[1], fluxErr2[1], fitted[1])\n",
    "\n",
    "    return J, grad\n",
    "\n",
    "def solve(grad, J):\n",
    "    print(\"grad:\", grad)\n",
    "    print(\"Jacobian:\\n\", J)\n",
    "    Hessian = np.dot(J,J.T)\n",
    "    print(\"Hessian = J^T*J:\\n\", Hessian)\n",
    "    delta = np.linalg.solve(Hessian,-grad)\n",
    "    print(\"delta:\", delta)\n",
    "    return delta"
   ]
  },
  {
   "cell_type": "code",
   "execution_count": 6,
   "metadata": {},
   "outputs": [
    {
     "name": "stdout",
     "output_type": "stream",
     "text": [
      "Take one step:\n",
      "grad: [ 44.71877141 -56.31236568]\n",
      "Jacobian:\n",
      " [[ 34.26693729   0.           0.        ]\n",
      " [  0.          36.9597361   71.24358313]]\n",
      "Hessian = J^T*J:\n",
      " [[ 1174.22299135     0.        ]\n",
      " [    0.          6441.67023022]]\n",
      "delta: [-0.03808371  0.00874189]\n",
      "new scale: [ 0.96191629  1.00874189]\n",
      "chi2: 1.79755724436  +  5.96469578717  =  7.76225303154\n",
      "\n",
      "The second step should not move within machine precision:\n",
      "grad: [  0.00000000e+00  -7.10542736e-14]\n",
      "Jacobian:\n",
      " [[ 35.62361689   0.           0.        ]\n",
      " [  0.          36.6394382   70.62617694]]\n",
      "Hessian = J^T*J:\n",
      " [[ 1269.04208059     0.        ]\n",
      " [    0.          6330.50530065]]\n",
      "delta: [ -0.00000000e+00   1.12241077e-17]\n",
      "new scale: [ 0.96191629  1.00874189]\n",
      "chi2: 1.79755724436  +  5.96469578717  =  7.76225303154\n"
     ]
    }
   ],
   "source": [
    "if useMaggies:\n",
    "    scaleFlux = [1,  1]\n",
    "else:\n",
    "    scaleFlux = [1.524685827e-13,  1.465319951e-13]\n",
    "\n",
    "def doOne(scale, flux1, fluxErr1, flux2, fluxErr2, fittedFlux, refFlux, refFluxErr):\n",
    "    J, grad = computeJandGradMeas(scale, flux1, fluxErr1, flux2, fluxErr2, fittedFlux)\n",
    "    newScale = scale + solve(grad, J)\n",
    "    print(\"new scale:\", newScale)\n",
    "    doChi2(newScale, flux1, fluxErr1, flux2, fluxErr2, fittedFlux, refFlux, refFluxErr)\n",
    "    return newScale\n",
    "\n",
    "print(\"Take one step:\")\n",
    "scaleFlux = doOne(scaleFlux, flux1, fluxErr1, flux2, fluxErr2, fittedFlux, refFlux, refFluxErr)\n",
    "print()\n",
    "print(\"The second step should not move within machine precision:\")\n",
    "scaleFlux = doOne(scaleFlux, flux1, fluxErr1, flux2, fluxErr2, fittedFlux, refFlux, refFluxErr)"
   ]
  },
  {
   "cell_type": "markdown",
   "metadata": {},
   "source": [
    "Now take a step along the refstar direction. The output of this calculation should match the chi2 from after the second fitting step, just after \"assignIndices: now fitting Flux\" (`chi2/ndof : 4.57832/3=1.52611`)."
   ]
  },
  {
   "cell_type": "code",
   "execution_count": 7,
   "metadata": {},
   "outputs": [],
   "source": [
    "def computeJRef(refFluxErr):\n",
    "    return 1.0/refFluxErr\n",
    "\n",
    "def computeGradRef(refFlux, refFluxErr, fittedFlux):\n",
    "    return (fittedFlux - refFlux) * (1.0/refFluxErr)**2\n",
    "\n",
    "def computeJandGradRef(scale, flux1, fluxErr1, flux2, fluxErr2, refFlux, refFluxErr, fittedFlux):\n",
    "    J = np.zeros((2,5))  # 2 stars, 5 contributions (1 per fittedStar (2), 1 per measuredStar (3))\n",
    "    grad = np.zeros((2))\n",
    "        \n",
    "    # Add in the contributions from (measuredStar-fittedStar)\n",
    "    star = 0\n",
    "    ccd = 0\n",
    "    grad[star] += -1.0 * (invSigma(scale[ccd], fluxErr1[star]))**2 * residualMeas(scale[ccd], flux1[star], fittedFlux[star])\n",
    "    J[star,0] += -1.0 * invSigma(scale[ccd], fluxErr1[star])\n",
    "\n",
    "    ccd = 1\n",
    "    grad[star] += -1.0 * (invSigma(scale[ccd], fluxErr2[star]))**2 * residualMeas(scale[ccd], flux2[star], fittedFlux[star])\n",
    "    J[star,1] += -1.0 * invSigma(scale[ccd], fluxErr2[star])\n",
    "    star = 1\n",
    "    grad[star] += -1.0 * (invSigma(scale[ccd], fluxErr2[star]))**2 * residualMeas(scale[ccd], flux2[star], fittedFlux[star])\n",
    "    J[star,2] += -1.0 * invSigma(scale[ccd], fluxErr2[star])\n",
    "\n",
    "    # fittedStar components go at the end of the matrix (starting with column 3)\n",
    "    for i, (fitted, ref, refErr) in enumerate(zip(fittedFlux, refFlux, refFluxErr)):\n",
    "        J[i, i+3] = computeJRef(refFluxErr[i])\n",
    "        grad[i] += computeGradRef(refFlux[i], refFluxErr[i], fittedFlux[i])\n",
    "\n",
    "    return J, grad"
   ]
  },
  {
   "cell_type": "code",
   "execution_count": 8,
   "metadata": {},
   "outputs": [
    {
     "name": "stdout",
     "output_type": "stream",
     "text": [
      "Take one step:\n",
      "\n",
      "grad: [  2.84595031e+10  -9.39535133e+09]\n",
      "Jacobian:\n",
      " [[ -1.10032357e+10  -1.22500523e+10   0.00000000e+00   5.75730913e+09\n",
      "    0.00000000e+00]\n",
      " [  0.00000000e+00   0.00000000e+00  -1.18808852e+10   0.00000000e+00\n",
      "    5.28331583e+09]]\n",
      "Hessian = J^T*J:\n",
      " [[  3.04281586e+20   0.00000000e+00]\n",
      " [  0.00000000e+00   1.69068859e+20]]\n",
      "delta: [ -9.35301523e-11   5.55711524e-11]\n",
      "new fitted fluxes: [  3.02072988e-09   6.00009261e-09]\n",
      "1.05911743994\n",
      "0.00196806278507\n",
      "0.00183426219563\n",
      "3.50612541926\n",
      "0.00927568233672\n",
      "chi2: 1.06291976492  +  3.51540110159  =  4.57832086652\n",
      "\n",
      "The second step should not move within machine precision:\n",
      "\n",
      "grad: [  1.33514404e-05   2.90274620e-05]\n",
      "Jacobian:\n",
      " [[ -1.10032357e+10  -1.22500523e+10   0.00000000e+00   5.75730913e+09\n",
      "    0.00000000e+00]\n",
      " [  0.00000000e+00   0.00000000e+00  -1.18808852e+10   0.00000000e+00\n",
      "    5.28331583e+09]]\n",
      "Hessian = J^T*J:\n",
      " [[  3.04281586e+20   0.00000000e+00]\n",
      " [  0.00000000e+00   1.69068859e+20]]\n",
      "delta: [ -4.38785685e-26  -1.71690175e-25]\n",
      "new fitted fluxes: [  3.02072988e-09   6.00009261e-09]\n",
      "1.05911743994\n",
      "0.00196806278507\n",
      "0.00183426219563\n",
      "3.50612541926\n",
      "0.00927568233672\n",
      "chi2: 1.06291976492  +  3.51540110159  =  4.57832086652\n"
     ]
    }
   ],
   "source": [
    "def doOne(scale, flux1, fluxErr1, flux2, fluxErr2, fittedFlux, refFlux, refFluxErr):\n",
    "    J, grad = computeJandGradRef(scale, flux1, fluxErr1, flux2, fluxErr2, refFlux, refFluxErr, fittedFlux)\n",
    "    print()\n",
    "    fittedFlux += solve(grad, J)\n",
    "    print(\"new fitted fluxes:\", fittedFlux)\n",
    "    doChi2(scale, flux1, fluxErr1, flux2, fluxErr2, fittedFlux, refFlux, refFluxErr, verbose=True)\n",
    "    return refFlux\n",
    "\n",
    "print(\"Take one step:\")\n",
    "refFlux = doOne(scaleFlux, flux1, fluxErr1, flux2, fluxErr2, fittedFlux, refFlux, refFluxErr)\n",
    "print()\n",
    "print(\"The second step should not move within machine precision:\")\n",
    "refFlux = doOne(scaleFlux, flux1, fluxErr1, flux2, fluxErr2, fittedFlux, refFlux, refFluxErr)"
   ]
  },
  {
   "cell_type": "markdown",
   "metadata": {},
   "source": [
    "## Magnitude calculation"
   ]
  },
  {
   "cell_type": "markdown",
   "metadata": {},
   "source": [
    "Now the same calculation in magnitude space for the `SimpleMagnitudeModel`. To see the comparison numbers, `setup jointcal` and run this in `tests/`:\n",
    "\n",
    "```\n",
    "pytest -sv test_jointcal_cfht_minimal.py::JointcalTestCFHTMinimal::test_jointcalTask_2_visits_photometry_magnitude\n",
    "```"
   ]
  },
  {
   "cell_type": "code",
   "execution_count": 9,
   "metadata": {},
   "outputs": [],
   "source": [
    "def flux2Mag(flux):\n",
    "    return -2.5 * np.log10(flux)\n",
    "\n",
    "def fluxErr2MagErr(flux, fluxErr):\n",
    "    return 2.5 / np.log(10.0) * fluxErr/flux"
   ]
  },
  {
   "cell_type": "code",
   "execution_count": 10,
   "metadata": {},
   "outputs": [],
   "source": [
    "def residualMeas(scale, mag, fittedMag):\n",
    "    return (mag + scale) - fittedMag\n",
    "\n",
    "def invSigma(scale, err):\n",
    "    return 1.0/err\n",
    "\n",
    "\n",
    "def measChi2(scale, mag, magErr, fittedMag):\n",
    "    return (residualMeas(scale, mag, fittedMag) * invSigma(scale, magErr))**2\n",
    "\n",
    "def computeChi2Meas(scale, mag1, magErr1, mag2, magErr2, fittedMag, verbose=False):\n",
    "    if verbose:\n",
    "        print(measChi2(scale[0], mag1[0], magErr1[0], fittedMag[0]))\n",
    "        print(measChi2(scale[1], mag2[0], magErr2[0], fittedMag[0]))\n",
    "        print(measChi2(scale[1], mag2[1], magErr2[1], fittedMag[1]))\n",
    "\n",
    "    return measChi2(scale[0], mag1[0], magErr1[0], fittedMag[0]) + \\\n",
    "            measChi2(scale[1], mag2[0], magErr2[0], fittedMag[0]) + \\\n",
    "            measChi2(scale[1], mag2[1], magErr2[1], fittedMag[1])\n",
    "\n",
    "\n",
    "def refChi2(fittedMag, refMag, refMagErr):\n",
    "    return ((fittedMag - refMag)/refMagErr)**2\n",
    "\n",
    "def computeChi2Ref(fittedMag, refMag, refMagErr, verbose=False):\n",
    "    if verbose:\n",
    "        print(refChi2(fittedMag[0], refMag[0], refMagErr[0]))\n",
    "        print(refChi2(fittedMag[1], refMag[1], refMagErr[1]))\n",
    "\n",
    "    return refChi2(fittedMag[0], refMag[0], refMagErr[0]) + refChi2(fittedMag[1], refMag[1], refMagErr[1])\n",
    "\n",
    "\n",
    "def doChi2(scale, mag1, magErr1, mag2, magErr2, fittedMag, refMag, refMagErr, verbose=False):\n",
    "    chi2Meas = computeChi2Meas(scale, mag1, magErr1, mag2, magErr2, fittedMag, verbose=verbose)\n",
    "    chi2Ref = computeChi2Ref(fittedMag, refMag, refMagErr, verbose=verbose)\n",
    "    print(\"chi2:\", chi2Meas, \" + \", chi2Ref, \" = \", chi2Meas+chi2Ref)"
   ]
  },
  {
   "cell_type": "code",
   "execution_count": 11,
   "metadata": {},
   "outputs": [
    {
     "name": "stdout",
     "output_type": "stream",
     "text": [
      "1.77026114391\n",
      "2.22918791849\n",
      "4.07319307165e-15\n",
      "5.02232445232\n",
      "0.153915513173\n",
      "chi2: 3.9994490624  +  5.17623996549  =  9.17568902789\n"
     ]
    }
   ],
   "source": [
    "# these are all in original units, for consistency with jointcal's calculations.\n",
    "flux1 = np.array([21234.2649])\n",
    "fluxErr1 = np.array([619.672096])\n",
    "flux2 = np.array([20411.6636, 40568.0784])\n",
    "fluxErr2 = np.array([552.267567, 569.427822])\n",
    "fittedFlux = np.array([3.11426003e-09, 5.94452146e-09])\n",
    "refFlux = np.array([2.6954972e-09, 6.01832176e-09])\n",
    "refFluxErr = np.array([1.73692254e-10, 1.89275075e-10])\n",
    "scaleFlux = [1.524685827e-13,  1.465319951e-13]\n",
    "\n",
    "# ccd1\n",
    "mag1 = flux2Mag(flux1)\n",
    "magErr1 = fluxErr2MagErr(flux1, fluxErr1)\n",
    "\n",
    "# ccd2\n",
    "mag2 = flux2Mag(flux2)\n",
    "magErr2 = fluxErr2MagErr(flux2, fluxErr2)\n",
    "\n",
    "# stars 1 and 2\n",
    "fittedMag = flux2Mag(fittedFlux)\n",
    "\n",
    "# stars 1 and 2\n",
    "refMag = flux2Mag(refFlux)\n",
    "refMagErr = fluxErr2MagErr(refFlux, refFluxErr)\n",
    "\n",
    "# ccds 1 and 2\n",
    "scaleMag = flux2Mag(scaleFlux)\n",
    "\n",
    "doChi2(scaleMag, mag1, magErr1, mag2, magErr2, fittedMag, refMag, refMagErr, verbose=True)"
   ]
  },
  {
   "cell_type": "markdown",
   "metadata": {},
   "source": [
    "## Magnitude-based jointcal minimization"
   ]
  },
  {
   "cell_type": "code",
   "execution_count": 12,
   "metadata": {},
   "outputs": [],
   "source": [
    "def computeJMeas(scale, mag, magErr):\n",
    "    \"\"\"Note that the derivative w.r.t. scale is always 1.\"\"\"\n",
    "    return invSigma(scale, magErr) * 1\n",
    "\n",
    "def computeGradMeas(scale, mag, magErr, fittedMag):\n",
    "    \"\"\"Note that the derivative w.r.t. scale is always 1.\"\"\"\n",
    "    return 1 * invSigma(scale, magErr)**2 * residualMeas(scale, mag, fittedMag)\n",
    "\n",
    "def computeJandGradMeas(scale, mag1, magErr1, mag2, magErr2, fitted):\n",
    "    J = np.zeros((2,3))  # elements of the Jacobian are dD(f)/d(f0) * 1/sigma\n",
    "    grad = np.zeros((2))  # elements of the gradient are -d chi2(f)/d(f0) = -dD(f)/d(f0) * (1/sigma)^2 * D(f)\n",
    "\n",
    "    # contributions from ccd1\n",
    "    i = 0\n",
    "    J[i, 0] = computeJMeas(scale[i], mag1[0], magErr1[0])\n",
    "    grad[i] += computeGradMeas(scale[i], mag1[0], magErr1[0], fitted[0])\n",
    "\n",
    "    # contributions from ccd2\n",
    "    i = 1\n",
    "    J[i, 1] = computeJMeas(scale[i], mag2[0], magErr2[0])\n",
    "    grad[i] += computeGradMeas(scale[i], mag2[0], magErr2[0], fitted[0])\n",
    "    J[i, 2] = computeJMeas(scale[i], mag2[1], magErr2[1])\n",
    "    grad[i] += computeGradMeas(scale[i], mag2[1], magErr2[1], fitted[1])\n",
    "\n",
    "    return J, grad\n",
    "\n",
    "def solve(grad, J):\n",
    "    print(\"grad:\", grad)\n",
    "    print(\"Jacobian:\\n\", J)\n",
    "    Hessian = np.dot(J,J.T)\n",
    "    print(\"Hessian = J^T*J:\\n\", Hessian)\n",
    "    delta = np.linalg.solve(Hessian,-grad)\n",
    "    print(\"delta:\", delta)\n",
    "    return delta"
   ]
  },
  {
   "cell_type": "code",
   "execution_count": 13,
   "metadata": {},
   "outputs": [
    {
     "name": "stdout",
     "output_type": "stream",
     "text": [
      "Initial scale: [ 32.04204909  32.08516884]\n",
      "Take one step:\n",
      "grad: [-41.99229776  50.82505387]\n",
      "Jacobian:\n",
      " [[ 31.56101566   0.           0.        ]\n",
      " [  0.          34.04117507  65.61776504]]\n",
      "Hessian = J^T*J:\n",
      " [[  996.09770968     0.        ]\n",
      " [    0.          5464.49268845]]\n",
      "delta: [ 0.04215681 -0.00930096]\n",
      "new newScale: [ 32.0842059   32.07586788]\n",
      "chi2: 1.75646588409  +  5.17623996549  =  6.93270584958\n",
      "\n",
      "The second step should not move within machine precision:\n",
      "grad: [  0.00000000e+00  -1.01536557e-11]\n",
      "Jacobian:\n",
      " [[ 31.56101566   0.           0.        ]\n",
      " [  0.          34.04117507  65.61776504]]\n",
      "Hessian = J^T*J:\n",
      " [[  996.09770968     0.        ]\n",
      " [    0.          5464.49268845]]\n",
      "delta: [ -0.00000000e+00   1.85811497e-15]\n",
      "new newScale: [ 32.0842059   32.07586788]\n",
      "chi2: 1.75646588409  +  5.17623996549  =  6.93270584958\n"
     ]
    }
   ],
   "source": [
    "scaleMag = flux2Mag(scaleFlux)\n",
    "\n",
    "def doOne(scale, mag1, magErr1, mag2, magErr2, fittedMag, refMag, refMagErr):\n",
    "    J, grad = computeJandGradMeas(scale, mag1, magErr1, mag2, magErr2, fittedMag)\n",
    "    newScale = scale + solve(grad, J)\n",
    "    print(\"new newScale:\", newScale)\n",
    "    doChi2(newScale, mag1, magErr1, mag2, magErr2, fittedMag, refMag, refMagErr)\n",
    "    return newScale\n",
    "\n",
    "print(\"Initial scale:\", scaleMag)\n",
    "print(\"Take one step:\")\n",
    "scaleMag = doOne(scaleMag, mag1, magErr1, mag2, magErr2, fittedMag, refMag, refMagErr)\n",
    "print()\n",
    "print(\"The second step should not move within machine precision:\")\n",
    "scaleMag = doOne(scaleMag, mag1, magErr1, mag2, magErr2, fittedMag, refMag, refMagErr)"
   ]
  },
  {
   "cell_type": "code",
   "execution_count": 14,
   "metadata": {},
   "outputs": [],
   "source": [
    "def computeJRef(refMagErr):\n",
    "    return 1.0/refMagErr\n",
    "\n",
    "def computeGradRef(refMag, refMagErr, fittedMag):\n",
    "    return (fittedMag - refMag) * (1.0/refMagErr)**2\n",
    "\n",
    "def computeJandGradRef(scale, mag1, magErr1, mag2, magErr2, refMag, refMagErr, fittedMag):\n",
    "    J = np.zeros((2,5))  # 2 stars, 5 contributions (1 per fittedStar (2), 1 per measuredStar (3))\n",
    "    grad = np.zeros((2))\n",
    "        \n",
    "    # Add in the contributions from (measuredStar-fittedStar)\n",
    "    star = 0\n",
    "    ccd = 0\n",
    "    grad[star] += -1.0 * (invSigma(scale[ccd], magErr1[star]))**2 * residualMeas(scale[ccd], mag1[star], fittedMag[star])\n",
    "    J[star,0] += -1.0 * invSigma(scale[ccd], magErr1[star])\n",
    "\n",
    "    ccd = 1\n",
    "    grad[star] += -1.0 * (invSigma(scale[ccd], magErr2[star]))**2 * residualMeas(scale[ccd], mag2[star], fittedMag[star])\n",
    "    J[star,1] += -1.0 * invSigma(scale[ccd], magErr2[star])\n",
    "    star = 1\n",
    "    grad[star] += -1.0 * (invSigma(scale[ccd], magErr2[star]))**2 * residualMeas(scale[ccd], mag2[star], fittedMag[star])\n",
    "    J[star,2] += -1.0 * invSigma(scale[ccd], magErr2[star])\n",
    "\n",
    "    # fittedStar components go at the end of the matrix (starting with column 3)\n",
    "    for i, (fitted, ref, refErr) in enumerate(zip(fittedMag, refMag, refMagErr)):\n",
    "        J[i, i+3] = computeJRef(refMagErr[i])\n",
    "        grad[i] += computeGradRef(refMag[i], refMagErr[i], fittedMag[i])\n",
    "\n",
    "    return J, grad"
   ]
  },
  {
   "cell_type": "code",
   "execution_count": 15,
   "metadata": {},
   "outputs": [
    {
     "name": "stdout",
     "output_type": "stream",
     "text": [
      "Take one step:\n",
      "\n",
      "grad: [-72.07926527  51.53652501]\n",
      "Jacobian:\n",
      " [[-31.56101566 -34.04117507   0.          14.29335282   0.        ]\n",
      " [  0.           0.         -65.61776504   0.          29.28583802]]\n",
      "Hessian = J^T*J:\n",
      " [[ 2359.19924435     0.        ]\n",
      " [    0.          5163.35139715]]\n",
      "delta: [ 0.03055243 -0.00998122]\n",
      "new fitted mages: [ 21.29716525  20.55472654]\n",
      "0.929808265988\n",
      "0.0186022866309\n",
      "0.00199241674352\n",
      "3.25570664799\n",
      "0.0100024810892\n",
      "chi2: 0.950402969362  +  3.26570912908  =  4.21611209845\n",
      "\n",
      "The second step should not move within machine precision:\n",
      "\n",
      "grad: [  5.71986902e-13  -8.84625706e-13]\n",
      "Jacobian:\n",
      " [[-31.56101566 -34.04117507   0.          14.29335282   0.        ]\n",
      " [  0.           0.         -65.61776504   0.          29.28583802]]\n",
      "Hessian = J^T*J:\n",
      " [[ 2359.19924435     0.        ]\n",
      " [    0.          5163.35139715]]\n",
      "delta: [ -2.42449595e-16   1.71327814e-16]\n",
      "new fitted mages: [ 21.29716525  20.55472654]\n",
      "0.929808265988\n",
      "0.0186022866309\n",
      "0.00199241674352\n",
      "3.25570664799\n",
      "0.0100024810892\n",
      "chi2: 0.950402969362  +  3.26570912908  =  4.21611209845\n"
     ]
    }
   ],
   "source": [
    "def doOne(scale, mag1, magErr1, mag2, magErr2, fittedMag, refMag, refMagErr):\n",
    "    J, grad = computeJandGradRef(scale, mag1, magErr1, mag2, magErr2, refMag, refMagErr, fittedMag)\n",
    "    print()\n",
    "    fittedMag += solve(grad, J)\n",
    "    print(\"new fitted mages:\", fittedMag)\n",
    "    doChi2(scale, mag1, magErr1, mag2, magErr2, fittedMag, refMag, refMagErr, verbose=True)\n",
    "    return refMag\n",
    "\n",
    "print(\"Take one step:\")\n",
    "refMag = doOne(scaleMag, mag1, magErr1, mag2, magErr2, fittedMag, refMag, refMagErr)\n",
    "print()\n",
    "print(\"The second step should not move within machine precision:\")\n",
    "refMag = doOne(scaleMag, mag1, magErr1, mag2, magErr2, fittedMag, refMag, refMagErr)"
   ]
  },
  {
   "cell_type": "markdown",
   "metadata": {},
   "source": [
    "### What does scipy say?"
   ]
  },
  {
   "cell_type": "markdown",
   "metadata": {},
   "source": [
    "This should identically match the final chi2 found by `test_jointcal_cfht_minimal.py::JointcalTestCFHTMinimal::test_jointcalTask_2_visits_photometry_magnitude`."
   ]
  },
  {
   "cell_type": "code",
   "execution_count": 16,
   "metadata": {},
   "outputs": [
    {
     "name": "stdout",
     "output_type": "stream",
     "text": [
      " final_simplex: (array([[ 32.15464362,  32.09644933,  21.33701302,  20.57188732],\n",
      "       [ 32.15455603,  32.09649287,  21.33702155,  20.57192763],\n",
      "       [ 32.15467851,  32.09648142,  21.33707356,  20.57192751],\n",
      "       [ 32.15463053,  32.09648843,  21.33703465,  20.57195249],\n",
      "       [ 32.15470554,  32.09650618,  21.33704753,  20.57192873]]), array([ 2.23008175,  2.23008416,  2.23008544,  2.23008549,  2.23008642]))\n",
      "           fun: 2.2300817523099341\n",
      "       message: 'Optimization terminated successfully.'\n",
      "          nfev: 148\n",
      "           nit: 80\n",
      "        status: 0\n",
      "       success: True\n",
      "             x: array([ 32.15464362,  32.09644933,  21.33701302,  20.57188732])\n",
      "chi2: 0.342249262093  +  1.88783249022  =  2.23008175231\n"
     ]
    }
   ],
   "source": [
    "def computeChi2(scale):\n",
    "    \"\"\"scale 0,1 is the scale factor, 2,3 is the fittedMag.\"\"\"\n",
    "    chi2Meas = computeChi2Meas(scale[:2], mag1, magErr1, mag2, magErr2, scale[2:], verbose=False)\n",
    "    chi2Ref = computeChi2Ref(scale[2:], refMag, refMagErr, verbose=False)\n",
    "    return chi2Meas + chi2Ref\n",
    "\n",
    "scale0 = np.hstack((scaleMag, fittedMag))\n",
    "result = scipy.optimize.minimize(computeChi2, scale0, method=\"Nelder-Mead\")\n",
    "print(result)\n",
    "doChi2(result.x[:2], mag1, magErr1, mag2, magErr2, result.x[2:], refMag, refMagErr)"
   ]
  }
 ],
 "metadata": {
  "kernelspec": {
   "display_name": "Python 3",
   "language": "python",
   "name": "python3"
  },
  "language_info": {
   "codemirror_mode": {
    "name": "ipython",
    "version": 3
   },
   "file_extension": ".py",
   "mimetype": "text/x-python",
   "name": "python",
   "nbconvert_exporter": "python",
   "pygments_lexer": "ipython3",
   "version": "3.6.3"
  }
 },
 "nbformat": 4,
 "nbformat_minor": 2
}
